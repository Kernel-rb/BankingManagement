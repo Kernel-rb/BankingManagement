{
 "cells": [
  {
   "cell_type": "markdown",
   "metadata": {},
   "source": [
    "# Implémentez une classe en Python appelée \"Ensemble\" pour représenter l'ensemble des entiers entre 0 et N-1 où N est une constante donnée.\n",
    "\n",
    "# La classe doit comporter les méthodes suivantes:\n",
    "\n",
    "# - cardinal(): retourne le nombre d'éléments d'un ensemble\n",
    "# - contient(i): vérifie si l'élément i est égal à l'ensemble \n",
    "# - avg(): une méthode qui retourne la moyenne de l'ensemble\n",
    "# - median(): retourne la valeur médiane d'un ensemble\n",
    "# - ajout(i): ajoute l'élément i à l'ensemble\n",
    "# - toString(): retourne une représentation d'un ensemble sous la forme: \"{e1, e2, ..., e(N-1)}\""
   ]
  },
  {
   "cell_type": "markdown",
   "metadata": {},
   "source": [
    "# Exercice 2 \"Recursivité\":\n",
    "# 1° - Ecrire une fonction \"repete(n,s)\" renvoyant la chaine de caractère s pour la renvoyer un # nombre n de fois. Par exemple: repete(2,\"bla\")=\"blabla\"\n",
    "# 2° -  Ecrire deux fonctions (une recursive et l'autre itérative) pyramide(n,s) qui écrit sur la # première ligne une fois la chaine s puis deux fois sur la deuxième ligne puis trois fois sur # la troisième ligne, etc. Le nombre de lignes dépend de la valeur de n.\n",
    "# 3° -  a -Pour le cas de la méthode recursive, quand on lance pyramide(n,s) combien y a t-il d'appel à la fonction pyramide() ?\n",
    "# b - Dans la fonction itérative, combien y a t-il d'appels à repete(n,s) ? \n",
    "# NB: Considérez que n=5 pour vous aider à répondre.\n",
    "# c - Pour la question 3°)b), généralisez la réponse pour un n quelconque."
   ]
  },
  {
   "cell_type": "code",
   "execution_count": null,
   "metadata": {
    "vscode": {
     "languageId": "plaintext"
    }
   },
   "outputs": [],
   "source": []
  }
 ],
 "metadata": {
  "language_info": {
   "name": "python"
  }
 },
 "nbformat": 4,
 "nbformat_minor": 2
}
